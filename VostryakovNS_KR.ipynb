{
 "cells": [
  {
   "cell_type": "code",
   "execution_count": 1,
   "id": "aef13c40",
   "metadata": {},
   "outputs": [
    {
     "name": "stdout",
     "output_type": "stream",
     "text": [
      "[7, 10, 6, 7, 9, 7, 5, 1, 2, 4]\n",
      "Введите число: 2\n",
      "[10, 6, 2, 4]\n"
     ]
    }
   ],
   "source": [
    "#1+\n",
    "import random\n",
    "a=[random.randint(1, 10) for i in range(10)]\n",
    "print(a)\n",
    "n=int(input('Введите число: '))\n",
    "def f(a,n):\n",
    "    b=[]\n",
    "    for i in a:\n",
    "        if i%n==0:\n",
    "            b.append(i)\n",
    "    return b\n",
    "print(f(a,n))"
   ]
  },
  {
   "cell_type": "code",
   "execution_count": 2,
   "id": "e709721e",
   "metadata": {},
   "outputs": [
    {
     "name": "stdout",
     "output_type": "stream",
     "text": [
      "[2, 3, 9, 1, 8, 9, 5, 10, 9, 10]\n",
      "[2, 3, 1, 16, 8, 5, 10, 20, 10]\n"
     ]
    }
   ],
   "source": [
    "#2\n",
    "import random\n",
    "a=[random.randint(1, 10) for i in range(10)]\n",
    "print(a)\n",
    "def f(a):\n",
    "    b=[]\n",
    "    for i in range(len(a)):\n",
    "        if (i+1) %5 == 0:\n",
    "            b.append(a[i]*2)\n",
    "        if (i+1) %3 != 0:\n",
    "            b.append(a[i])        \n",
    "    return b\n",
    "print(f(a))\n"
   ]
  },
  {
   "cell_type": "code",
   "execution_count": 5,
   "id": "e1132184",
   "metadata": {},
   "outputs": [
    {
     "name": "stdout",
     "output_type": "stream",
     "text": [
      "[7, 9, 3, 4, 2, 6, 2, 10, 10, 8]\n",
      "Введите число: 4\n",
      "1\n"
     ]
    }
   ],
   "source": [
    "#3+\n",
    "import random\n",
    "a=[random.randint(1, 10) for i in range(10)]\n",
    "print(a)\n",
    "n=int(input('Введите число: '))\n",
    "def f(a,n):\n",
    "    sum=0\n",
    "    for i in a:\n",
    "        if i==n:\n",
    "            sum+=1\n",
    "    return sum\n",
    "print(f(a,n))"
   ]
  },
  {
   "cell_type": "code",
   "execution_count": 6,
   "id": "782e410f",
   "metadata": {},
   "outputs": [
    {
     "name": "stdout",
     "output_type": "stream",
     "text": [
      "[7, 2, 3, 3, 10, 8, 9, 1, 7]\n",
      "[3, 2, 7, 8, 10, 3, 7, 1, 9]\n"
     ]
    }
   ],
   "source": [
    "#4+\n",
    "import random\n",
    "a=[random.randint(1, 10) for i in range(9)]\n",
    "print(a)\n",
    "def f(c):\n",
    "    b=[]\n",
    "    i = 0\n",
    "    for j in range(int(len(c)/3)):\n",
    "        a=c[i:i+3]\n",
    "        b.extend(a[::-1])\n",
    "        i+=len(a)\n",
    "    return b\n",
    "print(f(a))"
   ]
  },
  {
   "cell_type": "code",
   "execution_count": 7,
   "id": "b446ce26",
   "metadata": {},
   "outputs": [
    {
     "name": "stdout",
     "output_type": "stream",
     "text": [
      "[10, 9, 4, 3, 4, 6, 4, 7, 2, 10]\n",
      "[3, 6, 5, 9, 8, 3, 3, 5, 9, 9]\n",
      "[7, 3, -1, -6, -4, 3, 1, 2, -7, 1]\n"
     ]
    }
   ],
   "source": [
    "#5+\n",
    "import random\n",
    "a=[random.randint(1, 10) for i in range(10)]\n",
    "b=[random.randint(1, 10) for i in range(10)]\n",
    "print(a)\n",
    "print(b)\n",
    "def f(a,b):\n",
    "    c=[]\n",
    "    for i in range(len(a)):\n",
    "        c.append(a[i]-b[i])\n",
    "    return c\n",
    "print(f(a,b))"
   ]
  },
  {
   "cell_type": "code",
   "execution_count": 8,
   "id": "5be47e01",
   "metadata": {},
   "outputs": [
    {
     "name": "stdout",
     "output_type": "stream",
     "text": [
      "[5, 3, 7, 4, 6, 9, 1, 1, 3, 6]\n",
      "[1, 2, 1, 1, 2, 1, 2]\n"
     ]
    }
   ],
   "source": [
    "#6+\n",
    "import random\n",
    "a = [random.randint(1, 10) for i in range(10)]\n",
    "print(a)\n",
    "def f(a):\n",
    "    b=[]\n",
    "    works=[]\n",
    "    for i in a:\n",
    "        if i in works:\n",
    "            continue\n",
    "        b.append(a.count(i))\n",
    "        works.append(i)\n",
    "    return b\n",
    "print(f(a))"
   ]
  },
  {
   "cell_type": "code",
   "execution_count": 9,
   "id": "f1077804",
   "metadata": {},
   "outputs": [
    {
     "name": "stdout",
     "output_type": "stream",
     "text": [
      "[9, 7, 3, -1, 6, -6, 5, 1, 2, 3]\n",
      "[1, 2, 3, 3, 5, 6, 7, 9]\n"
     ]
    }
   ],
   "source": [
    "#7+\n",
    "import random\n",
    "a=[random.randint(-10, 10) for i in range(10)]\n",
    "print(a)\n",
    "def f(a):\n",
    "    return sorted([i for i in a if i > 0])\n",
    "print(f(a))"
   ]
  },
  {
   "cell_type": "code",
   "execution_count": 10,
   "id": "4bb693a3",
   "metadata": {},
   "outputs": [
    {
     "name": "stdout",
     "output_type": "stream",
     "text": [
      "Введите число: 3\n",
      "Исходный список: [0]\n",
      "[1, 2]\n"
     ]
    }
   ],
   "source": [
    "#8+\n",
    "n=int(input('Введите число: '))\n",
    "a=list(range(0,n-2))\n",
    "print('Исходный список:', a)\n",
    "def f(n,a):\n",
    "    b = list()\n",
    "    for i in range(0, n):\n",
    "        if i not in a:\n",
    "            b.append(i)\n",
    "    return b\n",
    "print(f(n,a))\n",
    "    "
   ]
  },
  {
   "cell_type": "code",
   "execution_count": 11,
   "id": "47ea852b",
   "metadata": {},
   "outputs": [
    {
     "data": {
      "text/html": [
       "<div>\n",
       "<style scoped>\n",
       "    .dataframe tbody tr th:only-of-type {\n",
       "        vertical-align: middle;\n",
       "    }\n",
       "\n",
       "    .dataframe tbody tr th {\n",
       "        vertical-align: top;\n",
       "    }\n",
       "\n",
       "    .dataframe thead th {\n",
       "        text-align: right;\n",
       "    }\n",
       "</style>\n",
       "<table border=\"1\" class=\"dataframe\">\n",
       "  <thead>\n",
       "    <tr style=\"text-align: right;\">\n",
       "      <th></th>\n",
       "      <th>ФИО</th>\n",
       "      <th>Дата рождения</th>\n",
       "      <th>Пол</th>\n",
       "      <th>Дата приема на работу</th>\n",
       "      <th>Оклад</th>\n",
       "      <th>Семейное положение</th>\n",
       "      <th>Кол-во детей</th>\n",
       "    </tr>\n",
       "  </thead>\n",
       "  <tbody>\n",
       "    <tr>\n",
       "      <th>0</th>\n",
       "      <td>Алистратов А.А.</td>\n",
       "      <td>27.10.1975</td>\n",
       "      <td>м</td>\n",
       "      <td>08.09.1997</td>\n",
       "      <td>4000</td>\n",
       "      <td>женат</td>\n",
       "      <td>1.0</td>\n",
       "    </tr>\n",
       "    <tr>\n",
       "      <th>1</th>\n",
       "      <td>Анохин Н.И.</td>\n",
       "      <td>11.12.1948</td>\n",
       "      <td>м</td>\n",
       "      <td>23.05.1986</td>\n",
       "      <td>5000</td>\n",
       "      <td>разведен</td>\n",
       "      <td>1.0</td>\n",
       "    </tr>\n",
       "    <tr>\n",
       "      <th>2</th>\n",
       "      <td>Антонова И.П.</td>\n",
       "      <td>04.12.1951</td>\n",
       "      <td>ж</td>\n",
       "      <td>09.05.1988</td>\n",
       "      <td>4300</td>\n",
       "      <td>замужем</td>\n",
       "      <td>1.0</td>\n",
       "    </tr>\n",
       "    <tr>\n",
       "      <th>3</th>\n",
       "      <td>Артемова Г.А.</td>\n",
       "      <td>06.08.1979</td>\n",
       "      <td>ж</td>\n",
       "      <td>05.09.1997</td>\n",
       "      <td>4500</td>\n",
       "      <td>незамужем</td>\n",
       "      <td>NaN</td>\n",
       "    </tr>\n",
       "    <tr>\n",
       "      <th>4</th>\n",
       "      <td>Афоничева Л.К.</td>\n",
       "      <td>09.01.1952</td>\n",
       "      <td>ж</td>\n",
       "      <td>05.10.1985</td>\n",
       "      <td>4900</td>\n",
       "      <td>замужем</td>\n",
       "      <td>1.0</td>\n",
       "    </tr>\n",
       "    <tr>\n",
       "      <th>...</th>\n",
       "      <td>...</td>\n",
       "      <td>...</td>\n",
       "      <td>...</td>\n",
       "      <td>...</td>\n",
       "      <td>...</td>\n",
       "      <td>...</td>\n",
       "      <td>...</td>\n",
       "    </tr>\n",
       "    <tr>\n",
       "      <th>95</th>\n",
       "      <td>Шафеева Н.К.</td>\n",
       "      <td>29.07.1939</td>\n",
       "      <td>ж</td>\n",
       "      <td>09.12.1985</td>\n",
       "      <td>4500</td>\n",
       "      <td>замужем</td>\n",
       "      <td>1.0</td>\n",
       "    </tr>\n",
       "    <tr>\n",
       "      <th>96</th>\n",
       "      <td>Шиманюк Н.И.</td>\n",
       "      <td>06.11.1979</td>\n",
       "      <td>м</td>\n",
       "      <td>23.11.1998</td>\n",
       "      <td>4000</td>\n",
       "      <td>холост</td>\n",
       "      <td>NaN</td>\n",
       "    </tr>\n",
       "    <tr>\n",
       "      <th>97</th>\n",
       "      <td>Элиава Т.М.</td>\n",
       "      <td>19.05.1981</td>\n",
       "      <td>м</td>\n",
       "      <td>10.09.1997</td>\n",
       "      <td>3700</td>\n",
       "      <td>холост</td>\n",
       "      <td>NaN</td>\n",
       "    </tr>\n",
       "    <tr>\n",
       "      <th>98</th>\n",
       "      <td>Якимова Н.М.</td>\n",
       "      <td>16.05.1973</td>\n",
       "      <td>ж</td>\n",
       "      <td>07.09.1999</td>\n",
       "      <td>3000</td>\n",
       "      <td>замужем</td>\n",
       "      <td>2.0</td>\n",
       "    </tr>\n",
       "    <tr>\n",
       "      <th>99</th>\n",
       "      <td>Яфарова Т.Н.</td>\n",
       "      <td>04.09.1945</td>\n",
       "      <td>ж</td>\n",
       "      <td>21.03.1986</td>\n",
       "      <td>4000</td>\n",
       "      <td>замужем</td>\n",
       "      <td>2.0</td>\n",
       "    </tr>\n",
       "  </tbody>\n",
       "</table>\n",
       "<p>100 rows × 7 columns</p>\n",
       "</div>"
      ],
      "text/plain": [
       "                ФИО Дата рождения Пол Дата приема на работу  Оклад  \\\n",
       "0   Алистратов А.А.    27.10.1975   м            08.09.1997   4000   \n",
       "1       Анохин Н.И.    11.12.1948   м            23.05.1986   5000   \n",
       "2     Антонова И.П.    04.12.1951   ж            09.05.1988   4300   \n",
       "3     Артемова Г.А.    06.08.1979   ж            05.09.1997   4500   \n",
       "4    Афоничева Л.К.    09.01.1952   ж            05.10.1985   4900   \n",
       "..              ...           ...  ..                   ...    ...   \n",
       "95     Шафеева Н.К.    29.07.1939   ж            09.12.1985   4500   \n",
       "96     Шиманюк Н.И.    06.11.1979   м            23.11.1998   4000   \n",
       "97      Элиава Т.М.    19.05.1981   м            10.09.1997   3700   \n",
       "98     Якимова Н.М.    16.05.1973   ж            07.09.1999   3000   \n",
       "99     Яфарова Т.Н.    04.09.1945   ж            21.03.1986   4000   \n",
       "\n",
       "   Семейное положение  Кол-во детей  \n",
       "0               женат           1.0  \n",
       "1            разведен           1.0  \n",
       "2             замужем           1.0  \n",
       "3           незамужем           NaN  \n",
       "4             замужем           1.0  \n",
       "..                ...           ...  \n",
       "95            замужем           1.0  \n",
       "96             холост           NaN  \n",
       "97             холост           NaN  \n",
       "98            замужем           2.0  \n",
       "99            замужем           2.0  \n",
       "\n",
       "[100 rows x 7 columns]"
      ]
     },
     "metadata": {},
     "output_type": "display_data"
    }
   ],
   "source": [
    "#2.1\n",
    "import numpy as np\n",
    "import pandas as pd\n",
    "\n",
    "data=pd.read_csv(\"https://raw.githubusercontent.com/junaart/ForStudents/master/Big_Data/Seminar_4/data_1.csv\")\n",
    "display(data)"
   ]
  },
  {
   "cell_type": "code",
   "execution_count": 124,
   "id": "3bd0c1c1",
   "metadata": {},
   "outputs": [],
   "source": []
  }
 ],
 "metadata": {
  "kernelspec": {
   "display_name": "Python 3 (ipykernel)",
   "language": "python",
   "name": "python3"
  },
  "language_info": {
   "codemirror_mode": {
    "name": "ipython",
    "version": 3
   },
   "file_extension": ".py",
   "mimetype": "text/x-python",
   "name": "python",
   "nbconvert_exporter": "python",
   "pygments_lexer": "ipython3",
   "version": "3.9.7"
  }
 },
 "nbformat": 4,
 "nbformat_minor": 5
}
